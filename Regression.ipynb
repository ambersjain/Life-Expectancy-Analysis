{
 "cells": [
  {
   "cell_type": "markdown",
   "metadata": {},
   "source": [
    "# Assignment 3 Group 19 Life Expectancy Machine Learning\n",
    "\n",
    "- Amber Jain 218047883\n",
    "- Isaac Gleeson 218302635\n",
    "- Miles Danswan 218188385\n",
    "- Cedric Quenette 218043304\n",
    "\n",
    "Presentation link: https://youtu.be/ka5ymukFZA4"
   ]
  },
  {
   "cell_type": "code",
   "execution_count": 1,
   "metadata": {},
   "outputs": [],
   "source": [
    "import pandas as pd\n",
    "import numpy as np\n",
    "import matplotlib.pyplot as plt\n",
    "import seaborn as sns\n",
    "\n",
    "from sklearn.linear_model import LinearRegression\n",
    "from sklearn.linear_model import LogisticRegression\n",
    "from sklearn.model_selection import train_test_split\n",
    "from sklearn import metrics\n",
    "from sklearn.ensemble import RandomForestClassifier\n",
    "from sklearn.svm import SVC\n",
    "from sklearn import preprocessing\n",
    "from sklearn.preprocessing import LabelEncoder\n",
    "from sklearn.preprocessing import OneHotEncoder\n",
    "from sklearn.model_selection import cross_val_score\n",
    "from sklearn.pipeline import Pipeline\n",
    "from sklearn.model_selection import RepeatedKFold\n",
    "from sklearn.preprocessing import StandardScaler\n",
    "from sklearn.decomposition import PCA\n",
    "from sklearn import metrics\n",
    "from sklearn.compose import ColumnTransformer\n",
    "\n",
    "\n",
    "pd.options.mode.chained_assignment = None  # default='warn'\n",
    "np.set_printoptions(edgeitems=10)\n",
    "np.core.arrayprint._line_width = 180"
   ]
  },
  {
   "cell_type": "markdown",
   "metadata": {},
   "source": [
    "# Performing PCA on the Dataset"
   ]
  },
  {
   "cell_type": "code",
   "execution_count": 2,
   "metadata": {},
   "outputs": [],
   "source": [
    "# load testing version of cleaned dataset\n",
    "df = pd.read_csv('cleaned_data_Winsorized.csv')"
   ]
  },
  {
   "cell_type": "code",
   "execution_count": 3,
   "metadata": {},
   "outputs": [],
   "source": [
    "# extract categorical data from the dataset, to use as labels for the set of features\n",
    "X = df.drop(['Country', 'Status'], axis=1)\n",
    "Y = df[['Country','Status']]\n",
    "Cols = X.columns"
   ]
  },
  {
   "cell_type": "markdown",
   "metadata": {},
   "source": [
    "## Fill NaN / Null Values\n",
    "Fill any NaN / NUll values, in the case that the dataset version being used is changed, and contains null values."
   ]
  },
  {
   "cell_type": "code",
   "execution_count": 4,
   "metadata": {},
   "outputs": [],
   "source": [
    "# replace NaN values with mean\n",
    "X.fillna(0, axis=1, inplace=True)"
   ]
  },
  {
   "cell_type": "code",
   "execution_count": 5,
   "metadata": {},
   "outputs": [
    {
     "name": "stdout",
     "output_type": "stream",
     "text": [
      "True\n",
      "True\n"
     ]
    }
   ],
   "source": [
    "'''\n",
    "Ensure that no values are missing or infinite.\n",
    "The importance of this is the Scikit Learn PCA class will not fit\n",
    "data which is infinite or NaN\n",
    "'''\n",
    "print(np.any(np.isfinite(X)) == True)\n",
    "print(np.any(np.isnan(X)) == False)"
   ]
  },
  {
   "cell_type": "markdown",
   "metadata": {},
   "source": [
    "## Split the Data (Train/Test)\n",
    "This was moved to the bottom (Cross Validation). This code was left here as history"
   ]
  },
  {
   "cell_type": "code",
   "execution_count": 6,
   "metadata": {},
   "outputs": [],
   "source": [
    "# split the dataset into training and testing (this was part \n",
    "# of the initial PCA anlysis, however, was moved to end Cross validation)\n",
    "# TEST_SIZE = 0.15\n",
    "# X_train, X_test, y_train, y_test = tts(X, y, test_size=TEST_SIZE)"
   ]
  },
  {
   "cell_type": "markdown",
   "metadata": {},
   "source": [
    "## Standardize the Input. \n",
    "With the Standard Scaler, compute the Standardized form of the given Dataset, using fit_transform."
   ]
  },
  {
   "cell_type": "code",
   "execution_count": 7,
   "metadata": {},
   "outputs": [],
   "source": [
    "'''\n",
    "Normalize the numerical data, to ensure that large variance \n",
    "between differing features does not effect the outcome\n",
    "'''\n",
    "ss = StandardScaler()\n",
    "# X_train = ss.fit_transform(X_train) # moved to Cross Validation\n",
    "# X_test = ss.transform(X_test) # moved to Cross Validation\n",
    "X_ft = ss.fit_transform(X)"
   ]
  },
  {
   "cell_type": "markdown",
   "metadata": {},
   "source": [
    "## Using PCA to Reduce our Dimentions.\n",
    "\n",
    "PCA is used to reduce the dimensions in our dataset, by removing low variance components. We begin with the number of PCA components being equal to number of Attributes in the given dataset. This is a good starting point, as it allows us to confirm the execution of PCA ( see inverse transform ), and gather an understanding for how much of the dataset is required to fulfill 90% accuracy in the dataset. Note This accuracy target ( 90% ) is arbitrary. However, 90% is a good starting target."
   ]
  },
  {
   "cell_type": "code",
   "execution_count": 8,
   "metadata": {},
   "outputs": [],
   "source": [
    "'''\n",
    "Calculate the principal components of the dataset. This allows for Machine Learning \n",
    "techniques to be completed with only the components which contribute to the majority of the variance\n",
    "'''\n",
    "components = X.shape[1]\n",
    "pca = PCA(n_components=components)\n",
    "# X_train = pca.fit_transform(X_train) # moved to Cross Validation\n",
    "# X_test = pca.transform(X_test) # moved to Cross Validation\n",
    "X_ft = pca.fit_transform(X_ft)"
   ]
  },
  {
   "cell_type": "markdown",
   "metadata": {},
   "source": [
    "## Initial PCA Results\n",
    "\n",
    "The initial PCA results show degree and direction of variance with respect to the containing Principal Component.\n",
    "\n",
    "We can observe that the further along the Attribute axis we go, the smaller the degree and direction of variance is. This outlines the purpose of PCA. We wish to reduce the number of features being used, to improve the performance of our Models, whilst targetting minimal loss in accuracy"
   ]
  },
  {
   "cell_type": "code",
   "execution_count": 9,
   "metadata": {},
   "outputs": [
    {
     "data": {
      "text/html": [
       "<div>\n",
       "<style scoped>\n",
       "    .dataframe tbody tr th:only-of-type {\n",
       "        vertical-align: middle;\n",
       "    }\n",
       "\n",
       "    .dataframe tbody tr th {\n",
       "        vertical-align: top;\n",
       "    }\n",
       "\n",
       "    .dataframe thead th {\n",
       "        text-align: right;\n",
       "    }\n",
       "</style>\n",
       "<table border=\"1\" class=\"dataframe\">\n",
       "  <thead>\n",
       "    <tr style=\"text-align: right;\">\n",
       "      <th></th>\n",
       "      <th>PC1</th>\n",
       "      <th>PC2</th>\n",
       "      <th>PC3</th>\n",
       "      <th>PC4</th>\n",
       "      <th>PC5</th>\n",
       "      <th>PC6</th>\n",
       "      <th>PC7</th>\n",
       "      <th>PC8</th>\n",
       "      <th>PC9</th>\n",
       "      <th>PC10</th>\n",
       "      <th>PC11</th>\n",
       "      <th>PC12</th>\n",
       "      <th>PC13</th>\n",
       "      <th>PC14</th>\n",
       "      <th>PC15</th>\n",
       "      <th>PC16</th>\n",
       "      <th>PC17</th>\n",
       "      <th>PC18</th>\n",
       "      <th>PC19</th>\n",
       "      <th>PC20</th>\n",
       "    </tr>\n",
       "  </thead>\n",
       "  <tbody>\n",
       "    <tr>\n",
       "      <th>0</th>\n",
       "      <td>4.423623</td>\n",
       "      <td>0.325759</td>\n",
       "      <td>2.206757</td>\n",
       "      <td>0.581188</td>\n",
       "      <td>-0.263415</td>\n",
       "      <td>1.665826</td>\n",
       "      <td>-0.357197</td>\n",
       "      <td>2.215663</td>\n",
       "      <td>0.195130</td>\n",
       "      <td>1.272150</td>\n",
       "      <td>0.188048</td>\n",
       "      <td>0.167566</td>\n",
       "      <td>1.114054</td>\n",
       "      <td>0.891802</td>\n",
       "      <td>0.107487</td>\n",
       "      <td>-0.182646</td>\n",
       "      <td>-0.365416</td>\n",
       "      <td>0.028935</td>\n",
       "      <td>0.071313</td>\n",
       "      <td>-0.063725</td>\n",
       "    </tr>\n",
       "    <tr>\n",
       "      <th>1</th>\n",
       "      <td>4.428390</td>\n",
       "      <td>0.231274</td>\n",
       "      <td>1.483009</td>\n",
       "      <td>0.310950</td>\n",
       "      <td>-0.481306</td>\n",
       "      <td>1.588508</td>\n",
       "      <td>-0.584436</td>\n",
       "      <td>2.177970</td>\n",
       "      <td>0.138854</td>\n",
       "      <td>0.971994</td>\n",
       "      <td>0.369297</td>\n",
       "      <td>0.825696</td>\n",
       "      <td>1.096428</td>\n",
       "      <td>0.890197</td>\n",
       "      <td>0.122935</td>\n",
       "      <td>-0.426203</td>\n",
       "      <td>0.120544</td>\n",
       "      <td>-0.243442</td>\n",
       "      <td>0.103162</td>\n",
       "      <td>-0.078717</td>\n",
       "    </tr>\n",
       "    <tr>\n",
       "      <th>2</th>\n",
       "      <td>4.340914</td>\n",
       "      <td>0.088074</td>\n",
       "      <td>1.659083</td>\n",
       "      <td>0.375984</td>\n",
       "      <td>-0.409749</td>\n",
       "      <td>1.307093</td>\n",
       "      <td>-0.061691</td>\n",
       "      <td>2.027027</td>\n",
       "      <td>-0.048668</td>\n",
       "      <td>0.824016</td>\n",
       "      <td>0.340739</td>\n",
       "      <td>0.951995</td>\n",
       "      <td>1.047627</td>\n",
       "      <td>0.856516</td>\n",
       "      <td>0.149290</td>\n",
       "      <td>-0.392568</td>\n",
       "      <td>0.187423</td>\n",
       "      <td>-0.255900</td>\n",
       "      <td>0.098664</td>\n",
       "      <td>-0.075742</td>\n",
       "    </tr>\n",
       "    <tr>\n",
       "      <th>3</th>\n",
       "      <td>4.392715</td>\n",
       "      <td>0.012407</td>\n",
       "      <td>1.894289</td>\n",
       "      <td>0.431760</td>\n",
       "      <td>-0.665198</td>\n",
       "      <td>0.813492</td>\n",
       "      <td>-0.835123</td>\n",
       "      <td>2.134678</td>\n",
       "      <td>0.019086</td>\n",
       "      <td>1.069361</td>\n",
       "      <td>-0.089217</td>\n",
       "      <td>0.344562</td>\n",
       "      <td>1.004130</td>\n",
       "      <td>0.800004</td>\n",
       "      <td>0.079911</td>\n",
       "      <td>-0.430250</td>\n",
       "      <td>0.265119</td>\n",
       "      <td>-0.262743</td>\n",
       "      <td>0.094260</td>\n",
       "      <td>-0.075841</td>\n",
       "    </tr>\n",
       "    <tr>\n",
       "      <th>4</th>\n",
       "      <td>4.506252</td>\n",
       "      <td>-0.130163</td>\n",
       "      <td>1.832226</td>\n",
       "      <td>0.416695</td>\n",
       "      <td>-0.483863</td>\n",
       "      <td>0.600310</td>\n",
       "      <td>-0.877484</td>\n",
       "      <td>1.912452</td>\n",
       "      <td>0.116238</td>\n",
       "      <td>0.977479</td>\n",
       "      <td>-0.109806</td>\n",
       "      <td>0.361672</td>\n",
       "      <td>0.927927</td>\n",
       "      <td>0.849330</td>\n",
       "      <td>0.172101</td>\n",
       "      <td>-0.382355</td>\n",
       "      <td>0.255990</td>\n",
       "      <td>-0.287866</td>\n",
       "      <td>0.096727</td>\n",
       "      <td>-0.076212</td>\n",
       "    </tr>\n",
       "    <tr>\n",
       "      <th>...</th>\n",
       "      <td>...</td>\n",
       "      <td>...</td>\n",
       "      <td>...</td>\n",
       "      <td>...</td>\n",
       "      <td>...</td>\n",
       "      <td>...</td>\n",
       "      <td>...</td>\n",
       "      <td>...</td>\n",
       "      <td>...</td>\n",
       "      <td>...</td>\n",
       "      <td>...</td>\n",
       "      <td>...</td>\n",
       "      <td>...</td>\n",
       "      <td>...</td>\n",
       "      <td>...</td>\n",
       "      <td>...</td>\n",
       "      <td>...</td>\n",
       "      <td>...</td>\n",
       "      <td>...</td>\n",
       "      <td>...</td>\n",
       "    </tr>\n",
       "    <tr>\n",
       "      <th>2933</th>\n",
       "      <td>4.547718</td>\n",
       "      <td>0.642336</td>\n",
       "      <td>-1.502280</td>\n",
       "      <td>-0.204806</td>\n",
       "      <td>-1.578880</td>\n",
       "      <td>-0.141593</td>\n",
       "      <td>0.878566</td>\n",
       "      <td>-0.082750</td>\n",
       "      <td>-0.189455</td>\n",
       "      <td>0.797116</td>\n",
       "      <td>0.057439</td>\n",
       "      <td>1.089440</td>\n",
       "      <td>0.019131</td>\n",
       "      <td>0.123116</td>\n",
       "      <td>0.545989</td>\n",
       "      <td>-0.452579</td>\n",
       "      <td>0.312898</td>\n",
       "      <td>-0.211053</td>\n",
       "      <td>0.018024</td>\n",
       "      <td>0.193491</td>\n",
       "    </tr>\n",
       "    <tr>\n",
       "      <th>2934</th>\n",
       "      <td>5.324844</td>\n",
       "      <td>1.972277</td>\n",
       "      <td>-0.620631</td>\n",
       "      <td>-0.351221</td>\n",
       "      <td>-0.900864</td>\n",
       "      <td>-0.480068</td>\n",
       "      <td>0.207850</td>\n",
       "      <td>0.221947</td>\n",
       "      <td>0.663828</td>\n",
       "      <td>1.187602</td>\n",
       "      <td>-1.160729</td>\n",
       "      <td>-0.129513</td>\n",
       "      <td>-0.063467</td>\n",
       "      <td>-0.083466</td>\n",
       "      <td>0.215219</td>\n",
       "      <td>-0.614016</td>\n",
       "      <td>-0.565820</td>\n",
       "      <td>-0.365532</td>\n",
       "      <td>0.012915</td>\n",
       "      <td>0.202132</td>\n",
       "    </tr>\n",
       "    <tr>\n",
       "      <th>2935</th>\n",
       "      <td>2.576899</td>\n",
       "      <td>1.329121</td>\n",
       "      <td>-1.409210</td>\n",
       "      <td>1.460739</td>\n",
       "      <td>-0.244602</td>\n",
       "      <td>-0.596702</td>\n",
       "      <td>-0.434245</td>\n",
       "      <td>-0.616938</td>\n",
       "      <td>-1.045099</td>\n",
       "      <td>-0.657017</td>\n",
       "      <td>0.833957</td>\n",
       "      <td>-0.609751</td>\n",
       "      <td>-1.044370</td>\n",
       "      <td>-1.230980</td>\n",
       "      <td>0.400816</td>\n",
       "      <td>-1.160713</td>\n",
       "      <td>0.394691</td>\n",
       "      <td>-0.454906</td>\n",
       "      <td>-0.009368</td>\n",
       "      <td>0.204049</td>\n",
       "    </tr>\n",
       "    <tr>\n",
       "      <th>2936</th>\n",
       "      <td>3.492954</td>\n",
       "      <td>0.998748</td>\n",
       "      <td>-1.428756</td>\n",
       "      <td>1.299524</td>\n",
       "      <td>-1.137017</td>\n",
       "      <td>-0.771340</td>\n",
       "      <td>-0.257004</td>\n",
       "      <td>-1.756984</td>\n",
       "      <td>-0.935158</td>\n",
       "      <td>0.015536</td>\n",
       "      <td>-1.127768</td>\n",
       "      <td>-0.549373</td>\n",
       "      <td>0.456747</td>\n",
       "      <td>-0.550662</td>\n",
       "      <td>0.496284</td>\n",
       "      <td>-0.723377</td>\n",
       "      <td>0.204827</td>\n",
       "      <td>-0.205060</td>\n",
       "      <td>0.007467</td>\n",
       "      <td>0.191438</td>\n",
       "    </tr>\n",
       "    <tr>\n",
       "      <th>2937</th>\n",
       "      <td>4.828897</td>\n",
       "      <td>-0.089423</td>\n",
       "      <td>-0.296845</td>\n",
       "      <td>-0.456293</td>\n",
       "      <td>-1.512215</td>\n",
       "      <td>-1.587173</td>\n",
       "      <td>0.057639</td>\n",
       "      <td>0.036482</td>\n",
       "      <td>-0.298944</td>\n",
       "      <td>1.507851</td>\n",
       "      <td>-1.268427</td>\n",
       "      <td>-0.146358</td>\n",
       "      <td>-0.018235</td>\n",
       "      <td>-0.392611</td>\n",
       "      <td>0.612346</td>\n",
       "      <td>-0.590643</td>\n",
       "      <td>0.070234</td>\n",
       "      <td>-0.132779</td>\n",
       "      <td>-0.049158</td>\n",
       "      <td>0.224072</td>\n",
       "    </tr>\n",
       "  </tbody>\n",
       "</table>\n",
       "<p>2938 rows × 20 columns</p>\n",
       "</div>"
      ],
      "text/plain": [
       "           PC1       PC2       PC3       PC4       PC5       PC6       PC7  \\\n",
       "0     4.423623  0.325759  2.206757  0.581188 -0.263415  1.665826 -0.357197   \n",
       "1     4.428390  0.231274  1.483009  0.310950 -0.481306  1.588508 -0.584436   \n",
       "2     4.340914  0.088074  1.659083  0.375984 -0.409749  1.307093 -0.061691   \n",
       "3     4.392715  0.012407  1.894289  0.431760 -0.665198  0.813492 -0.835123   \n",
       "4     4.506252 -0.130163  1.832226  0.416695 -0.483863  0.600310 -0.877484   \n",
       "...        ...       ...       ...       ...       ...       ...       ...   \n",
       "2933  4.547718  0.642336 -1.502280 -0.204806 -1.578880 -0.141593  0.878566   \n",
       "2934  5.324844  1.972277 -0.620631 -0.351221 -0.900864 -0.480068  0.207850   \n",
       "2935  2.576899  1.329121 -1.409210  1.460739 -0.244602 -0.596702 -0.434245   \n",
       "2936  3.492954  0.998748 -1.428756  1.299524 -1.137017 -0.771340 -0.257004   \n",
       "2937  4.828897 -0.089423 -0.296845 -0.456293 -1.512215 -1.587173  0.057639   \n",
       "\n",
       "           PC8       PC9      PC10      PC11      PC12      PC13      PC14  \\\n",
       "0     2.215663  0.195130  1.272150  0.188048  0.167566  1.114054  0.891802   \n",
       "1     2.177970  0.138854  0.971994  0.369297  0.825696  1.096428  0.890197   \n",
       "2     2.027027 -0.048668  0.824016  0.340739  0.951995  1.047627  0.856516   \n",
       "3     2.134678  0.019086  1.069361 -0.089217  0.344562  1.004130  0.800004   \n",
       "4     1.912452  0.116238  0.977479 -0.109806  0.361672  0.927927  0.849330   \n",
       "...        ...       ...       ...       ...       ...       ...       ...   \n",
       "2933 -0.082750 -0.189455  0.797116  0.057439  1.089440  0.019131  0.123116   \n",
       "2934  0.221947  0.663828  1.187602 -1.160729 -0.129513 -0.063467 -0.083466   \n",
       "2935 -0.616938 -1.045099 -0.657017  0.833957 -0.609751 -1.044370 -1.230980   \n",
       "2936 -1.756984 -0.935158  0.015536 -1.127768 -0.549373  0.456747 -0.550662   \n",
       "2937  0.036482 -0.298944  1.507851 -1.268427 -0.146358 -0.018235 -0.392611   \n",
       "\n",
       "          PC15      PC16      PC17      PC18      PC19      PC20  \n",
       "0     0.107487 -0.182646 -0.365416  0.028935  0.071313 -0.063725  \n",
       "1     0.122935 -0.426203  0.120544 -0.243442  0.103162 -0.078717  \n",
       "2     0.149290 -0.392568  0.187423 -0.255900  0.098664 -0.075742  \n",
       "3     0.079911 -0.430250  0.265119 -0.262743  0.094260 -0.075841  \n",
       "4     0.172101 -0.382355  0.255990 -0.287866  0.096727 -0.076212  \n",
       "...        ...       ...       ...       ...       ...       ...  \n",
       "2933  0.545989 -0.452579  0.312898 -0.211053  0.018024  0.193491  \n",
       "2934  0.215219 -0.614016 -0.565820 -0.365532  0.012915  0.202132  \n",
       "2935  0.400816 -1.160713  0.394691 -0.454906 -0.009368  0.204049  \n",
       "2936  0.496284 -0.723377  0.204827 -0.205060  0.007467  0.191438  \n",
       "2937  0.612346 -0.590643  0.070234 -0.132779 -0.049158  0.224072  \n",
       "\n",
       "[2938 rows x 20 columns]"
      ]
     },
     "execution_count": 9,
     "metadata": {},
     "output_type": "execute_result"
    }
   ],
   "source": [
    "X_pca_df = pd.DataFrame(data=X_ft, \n",
    "                        columns=['PC%d' % (i+1) for i in range(components)])\n",
    "X_pca_df"
   ]
  },
  {
   "cell_type": "markdown",
   "metadata": {},
   "source": [
    "## Principal Component Variance Contribution\n",
    "We want to know how many of the resulting Principal Components satisfy our accuracy target of ( _90%_ ). To find this, we calculate the cummulative sum of the Explained Variance Ratio. The Explained Variance Ratio provides a number representing the proportion of which each principal component contributes variance to the overall dataset."
   ]
  },
  {
   "cell_type": "code",
   "execution_count": 10,
   "metadata": {
    "scrolled": true
   },
   "outputs": [
    {
     "data": {
      "image/png": "[encoded data removed]",
      "text/plain": [
       "<Figure size 432x288 with 1 Axes>"
      ]
     },
     "metadata": {
      "needs_background": "light"
     },
     "output_type": "display_data"
    }
   ],
   "source": [
    "'''\n",
    "Display the cumulative sum of the explained variance for each \n",
    "Principal Component\n",
    "'''\n",
    "clrs = np.array(['darkorange', 'limegreen', 'royalblue'])\n",
    "\n",
    "pca_expln_var_len = len(pca.explained_variance_ratio_)\n",
    "pca_cum_sum = np.cumsum(np.round(pca.explained_variance_ratio_, \n",
    "                                 decimals=3)*100)\n",
    "plt.scatter(np.arange(0, pca_expln_var_len), \n",
    "            pca_cum_sum, \n",
    "            c=clrs[0])\n",
    "plt.plot(pca_cum_sum,\n",
    "         c=clrs[0])\n",
    "plt.plot([0, \n",
    "          pca_expln_var_len], \n",
    "         [90, 90], \n",
    "         c=clrs[1])\n",
    "plt.grid()\n",
    "plt.savefig('../PCA Results (Cumulative Sum).png')"
   ]
  },
  {
   "cell_type": "markdown",
   "metadata": {},
   "source": [
    "## Variance Contribution Analysis Results\n",
    "As can be seen above, only __half__ of the Principal Components are required to retrieve 90% of the overall dataset variance. This is a large improvement over the previous 20 components, and will help improve the spedd of our future ML models (if applied).\n",
    "\n",
    "## Developing vs Developed Variance\n",
    "We can visualise the contribution of Developing vs Developed data points, with respect to the First and Second Principal Components. \n",
    "\n",
    "This allows us to understand the degree of variance of Developed and Developing, and allows us to visually gather the clusters of developing vs developed. For example, with developed, we can use this information to cluster new data points."
   ]
  },
  {
   "cell_type": "code",
   "execution_count": 11,
   "metadata": {},
   "outputs": [
    {
     "data": {
      "image/png": "[encoded data removed]",
      "text/plain": [
       "<Figure size 720x720 with 1 Axes>"
      ]
     },
     "metadata": {
      "needs_background": "light"
     },
     "output_type": "display_data"
    }
   ],
   "source": [
    "'''\n",
    "Display the Prinicpal Components in relation to the invidual contribution\n",
    "of each data point, relative to their classification of 'Developing' or 'Developed'\n",
    "'''\n",
    "developing = df.loc[df[\"Status\"] == 'Developing']\n",
    "developed = df.loc[df[\"Status\"] == 'Developed']\n",
    "\n",
    "clrs = np.array(['r', 'b'])\n",
    "\n",
    "developing.replace({\"Status\": {\"Developing\": 0, \"Developed\": 1}}, inplace=True)\n",
    "developed.replace({\"Status\": {\"Developing\": 0, \"Developed\": 1}}, inplace=True)\n",
    "\n",
    "fig = plt.figure(figsize=(10, 10))\n",
    "ax = fig.add_subplot(111)\n",
    "\n",
    "ax.scatter(X_pca_df.loc[developing.index.values, 'PC1'], \n",
    "                          X_pca_df.loc[developing.index.values, 'PC2'], \n",
    "                          c = clrs[developing['Status'].values], \n",
    "                          label='Developing')\n",
    "\n",
    "ax.scatter(X_pca_df.loc[developed.index.values, 'PC1'], \n",
    "                          X_pca_df.loc[developed.index.values, 'PC2'], \n",
    "                          c = clrs[developed['Status'].values], \n",
    "                          label='Developed')\n",
    "\n",
    "ax.set_xlabel(\"Principal Component 1\")\n",
    "ax.set_ylabel(\"Principal Component 2\")\n",
    "ax.grid()\n",
    "ax.legend()\n",
    "\n",
    "fig.savefig(\"../PCA Results (Developing vs Developed).png\")"
   ]
  },
  {
   "cell_type": "markdown",
   "metadata": {},
   "source": [
    "## Directions and Degree of each Feature\n",
    "This example shows the degree and direction of each feature, relative to the First and Second Principle Component. The importance of this visualisation is to gather how each original feature affects the level of variance in terms of the First two PCs."
   ]
  },
  {
   "cell_type": "code",
   "execution_count": 12,
   "metadata": {},
   "outputs": [
    {
     "data": {
      "image/png": "[encoded data removed]",
      "text/plain": [
       "<Figure size 936x936 with 1 Axes>"
      ]
     },
     "metadata": {
      "needs_background": "light"
     },
     "output_type": "display_data"
    }
   ],
   "source": [
    "'''\n",
    "Display the degree of contribution of each attribute in terms of\n",
    "the First and Second Primary Principal Components \n",
    "'''\n",
    "fig = plt.figure(figsize=(13, 13))\n",
    "ax = fig.add_subplot(111)\n",
    "ax.grid()\n",
    "ax.set_xlim([-0.5,0.5])\n",
    "ax.set_xlabel(\"Principal Component 1\")\n",
    "ax.set_ylabel(\"Principal Component 2\")\n",
    "ax.scatter(pca.components_[0], \n",
    "           pca.components_[1])\n",
    "\n",
    "'''\n",
    "Enumerate all columns, plotting the line and text associated \n",
    "with the degree of that line\n",
    "'''\n",
    "for idx, val in enumerate(Cols[0:components]):\n",
    "    x, y = pca.components_[0][idx], pca.components_[1][idx]\n",
    "    xy_arr = np.array([x, y])\n",
    "    ax.plot([0, x], \n",
    "            [0, y])\n",
    "    a = (y/x) # linear equation (a)\n",
    "    pos_x = x+(x/100 * 3) # text x position offset from x/y point\n",
    "    pos_y = a*(pos_x) # text y position\n",
    "    p1, p2, = ax.transData.transform_point((0, 0)), ax.transData.transform_point((pos_x, pos_y)) # transform given pos_x and pos_y into axis points\n",
    "    dx, dy = (p2[1] - p1[1]), (p2[0] - p1[0]) # delta x and y\n",
    "    angle = np.degrees(np.arctan(dx / dy)) # calculate the angle of the text relative to the associated line\n",
    "    ax.text(pos_x, \n",
    "            pos_y, \n",
    "            val, \n",
    "            ha='left' if x > 0 else 'right', # ensure that negative and positive values are anchored correctly\n",
    "            va='center', \n",
    "            weight='bold',\n",
    "            fontsize=10,\n",
    "            rotation=angle, \n",
    "            rotation_mode='anchor')\n",
    "    \n",
    "fig.savefig('../PCA Results (Column Contribution to First and Second PCs).png')"
   ]
  },
  {
   "cell_type": "markdown",
   "metadata": {},
   "source": [
    "## Developing vs Developed Results\n",
    "The above shows that several features exhibit a high positive degree of variance in terms of the First and Second Component:\n",
    " * Measles\n",
    " * HIV/AIDS\n",
    " * Infant Deaths / Under Five Deaths"
   ]
  },
  {
   "cell_type": "markdown",
   "metadata": {},
   "source": [
    "## PCA Inverse Transform and Recovering Data\n",
    "In this step, we reevaluate PCA with half of the original feature space. The goal of this task is to show how the reduction of components from the original dataset, results in loss of informtion, with respect to the decrease in compute time."
   ]
  },
  {
   "cell_type": "code",
   "execution_count": 13,
   "metadata": {},
   "outputs": [
    {
     "name": "stdout",
     "output_type": "stream",
     "text": [
      "Adult Mortality                    2947.5\n",
      "Alcohol                               2.9\n",
      "BMI                                  87.4\n",
      "Diphtheria                            nan\n",
      "GDP                                   nan\n",
      "HIV/AIDS                              nan\n",
      "Hepatitis B                         119.4\n",
      "Income composition of resources       nan\n",
      "Life expectancy                       9.8\n",
      "Measles                           21937.4\n",
      "Polio                                 nan\n",
      "Population                            nan\n",
      "Schooling                             nan\n",
      "Total expenditure                     nan\n",
      "Year                                  0.7\n",
      "infant deaths                        22.8\n",
      "percentage expenditure            16118.5\n",
      "thinness  1-19 years                  nan\n",
      "thinness 5-9 years                    nan\n",
      "under-five deaths                    32.2\n",
      "dtype: float64\n"
     ]
    }
   ],
   "source": [
    "'''\n",
    "Now that we know we can reduce our Dimensionality to 10 features,\n",
    "to achieve 90% of explained variance, we will reconstruct the PCA model,\n",
    "and project the results back onto the original features space\n",
    "'''\n",
    "components = 10\n",
    "ss = StandardScaler()\n",
    "X_ft = ss.fit_transform(X)\n",
    "pca = PCA(n_components=components)\n",
    "X_ft = pca.fit_transform(X_ft)\n",
    "\n",
    "# set pandas to display floating point numbers rounded to 1 decimal place\n",
    "pd.set_option('display.float_format', \n",
    "              lambda x: '%.1f' % x)\n",
    "# inverse the projection into the original feature space\n",
    "proj_original = pca.inverse_transform(X_ft)\n",
    "# scale back the projected result\n",
    "scaled_proj_original = ss.inverse_transform(proj_original)\n",
    "sc_proj_original_df = pd.DataFrame(scaled_proj_original[:, 0:len(Cols)], \n",
    "                                   columns=Cols[0:len(Cols)])\n",
    "# calculate the loss for each feature after projection (loss is inevitable when executing \n",
    "# dimensionality reduction, as to remove dimensions, data must also be removed (hence, less accuracy). \n",
    "# The purpose of removing dimension`s is to maximise the trade off between algorithm compute efficiency\n",
    "# and maximizing explained variance throughout the dataset)\n",
    "sc_proj_original_loss = ((X-sc_proj_original_df[Cols[0:components].values]) ** 2)\n",
    "print(sc_proj_original_loss.mean())"
   ]
  },
  {
   "cell_type": "markdown",
   "metadata": {},
   "source": [
    "## Custom PCA ML Testing Function and Example\n",
    "Below is a custom PCA ML function for Cross Validating the use of PCA with the given _n_ components. This shows the accuracy flctuation and the scores of each Validation.\n",
    "\n",
    "The example is simple, and provides a guide for those that may want to use it. \n",
    "\n",
    "Binning and classifying Life Expectancy, and correctly classifying Test data. The resulting score shows an _error_ , which is satisfactory if equal to __0__. Changing the number of bins in the main factor here, and it can be seen that when chanign the number of PCA components in the evaluation, the smaller the number, the smaller the error. This implies that more data is complicating this classification task, and hence, more of the features can be removed."
   ]
  },
  {
   "cell_type": "code",
   "execution_count": 14,
   "metadata": {},
   "outputs": [
    {
     "name": "stdout",
     "output_type": "stream",
     "text": [
      "Score: -3.687 (0.335)\n"
     ]
    }
   ],
   "source": [
    "'''\n",
    "Apply PCA to a given AI/ML Model\n",
    "\n",
    "This function takes a Model, Cross Validator, and and X/Y dataset.\n",
    "The Model is applied with Cross Validator to the X and Y dataset\n",
    "\n",
    "The function return the scores for 'accuracy' of the Model for each \n",
    "Cross Validator partition\n",
    "\n",
    "Note: this function has context within this notebook. Executing with defaults will\n",
    "raise an error if called outside of this notebook!\n",
    "Note: If the model parameter is changed, the scoring method must also be changed! (i.e. classification has it's\n",
    "own scoring methods, so does regression) Please see https://scikit-learn.org/stable/modules/model_evaluation.html\n",
    "for more info\n",
    "'''\n",
    "def pca_ml_test(X, \n",
    "                Y, \n",
    "                model=LinearRegression(), \n",
    "                scoring='neg_mean_absolute_error',\n",
    "                cv=RepeatedKFold(n_splits=10, n_repeats=3, random_state=1), \n",
    "                pca_components=X.shape[1]):\n",
    "    \n",
    "    stps = [('scale', StandardScaler()),\n",
    "            ('pca', PCA(n_components=pca_components-1)), \n",
    "            ('lr', model)] # create pipe for steps in evaluating PCA with ML model\n",
    "    model = Pipeline(steps=stps) # create Pipeline for above steps\n",
    "    scores = cross_val_score(model, \n",
    "                               X, \n",
    "                               Y, \n",
    "                               scoring=scoring, \n",
    "                               cv=cv) # evaluation Model with PCA Component influence\n",
    "    \n",
    "    print('Score: %.3f (%.3f)' % (np.mean(scores), np.std(scores))) # print the average and standard deviation of the Cross Validation Evaluation\n",
    "    return scores\n",
    "\n",
    "'''\n",
    "Example use of PCA results to classify the Life Expectancy into\n",
    "50 individual bins between -1, 50\n",
    "'''\n",
    "X_new = X.copy(deep=True).drop(['Life expectancy'], axis=1) # copy the original X array without Life Expectancy (Target)\n",
    "life_exp_int = df['Life expectancy'].astype(int) # bin Life Expectancy data into \n",
    "\n",
    "res = pd.cut(df['Life expectancy'], bins=np.arange(-1, 50), labels=np.arange(0, 50))\n",
    "res.fillna(0, inplace=True) # fill any NaN values from the above binning (-inf, inf)\n",
    "\n",
    "# returns the scores of each Cross Validation Run with respect to the\n",
    "# provided 'scoring' metric (which in the above example's case, is 'neg_mean_absolute_error')\n",
    "scrs = pca_ml_test(X_new, \n",
    "                   res.values, \n",
    "                   pca_components=10)"
   ]
  },
  {
   "cell_type": "markdown",
   "metadata": {},
   "source": [
    "# Status Logistic Regression Using PCA"
   ]
  },
  {
   "cell_type": "code",
   "execution_count": 77,
   "metadata": {},
   "outputs": [
    {
     "data": {
      "text/html": [
       "<div>\n",
       "<style scoped>\n",
       "    .dataframe tbody tr th:only-of-type {\n",
       "        vertical-align: middle;\n",
       "    }\n",
       "\n",
       "    .dataframe tbody tr th {\n",
       "        vertical-align: top;\n",
       "    }\n",
       "\n",
       "    .dataframe thead th {\n",
       "        text-align: right;\n",
       "    }\n",
       "</style>\n",
       "<table border=\"1\" class=\"dataframe\">\n",
       "  <thead>\n",
       "    <tr style=\"text-align: right;\">\n",
       "      <th></th>\n",
       "      <th>Life expectancy</th>\n",
       "      <th>Adult Mortality</th>\n",
       "      <th>infant deaths</th>\n",
       "      <th>Alcohol</th>\n",
       "      <th>percentage expenditure</th>\n",
       "      <th>Measles</th>\n",
       "      <th>BMI</th>\n",
       "      <th>under-five deaths</th>\n",
       "      <th>Total expenditure</th>\n",
       "      <th>HIV/AIDS</th>\n",
       "      <th>Income composition of resources</th>\n",
       "      <th>Schooling</th>\n",
       "    </tr>\n",
       "  </thead>\n",
       "  <tbody>\n",
       "    <tr>\n",
       "      <th>0</th>\n",
       "      <td>65.0</td>\n",
       "      <td>263.0</td>\n",
       "      <td>52</td>\n",
       "      <td>0.0</td>\n",
       "      <td>71.3</td>\n",
       "      <td>741</td>\n",
       "      <td>19.1</td>\n",
       "      <td>61</td>\n",
       "      <td>8.2</td>\n",
       "      <td>0.1</td>\n",
       "      <td>0.5</td>\n",
       "      <td>10.1</td>\n",
       "    </tr>\n",
       "    <tr>\n",
       "      <th>1</th>\n",
       "      <td>59.9</td>\n",
       "      <td>271.0</td>\n",
       "      <td>52</td>\n",
       "      <td>0.0</td>\n",
       "      <td>73.5</td>\n",
       "      <td>492</td>\n",
       "      <td>18.6</td>\n",
       "      <td>61</td>\n",
       "      <td>8.2</td>\n",
       "      <td>0.1</td>\n",
       "      <td>0.5</td>\n",
       "      <td>10.0</td>\n",
       "    </tr>\n",
       "    <tr>\n",
       "      <th>2</th>\n",
       "      <td>59.9</td>\n",
       "      <td>268.0</td>\n",
       "      <td>52</td>\n",
       "      <td>0.0</td>\n",
       "      <td>73.2</td>\n",
       "      <td>430</td>\n",
       "      <td>18.1</td>\n",
       "      <td>61</td>\n",
       "      <td>8.1</td>\n",
       "      <td>0.1</td>\n",
       "      <td>0.5</td>\n",
       "      <td>9.9</td>\n",
       "    </tr>\n",
       "    <tr>\n",
       "      <th>3</th>\n",
       "      <td>59.5</td>\n",
       "      <td>272.0</td>\n",
       "      <td>52</td>\n",
       "      <td>0.0</td>\n",
       "      <td>78.2</td>\n",
       "      <td>741</td>\n",
       "      <td>17.6</td>\n",
       "      <td>61</td>\n",
       "      <td>8.5</td>\n",
       "      <td>0.1</td>\n",
       "      <td>0.5</td>\n",
       "      <td>9.8</td>\n",
       "    </tr>\n",
       "    <tr>\n",
       "      <th>4</th>\n",
       "      <td>59.2</td>\n",
       "      <td>275.0</td>\n",
       "      <td>52</td>\n",
       "      <td>0.0</td>\n",
       "      <td>7.1</td>\n",
       "      <td>741</td>\n",
       "      <td>17.2</td>\n",
       "      <td>61</td>\n",
       "      <td>7.9</td>\n",
       "      <td>0.1</td>\n",
       "      <td>0.5</td>\n",
       "      <td>9.5</td>\n",
       "    </tr>\n",
       "    <tr>\n",
       "      <th>...</th>\n",
       "      <td>...</td>\n",
       "      <td>...</td>\n",
       "      <td>...</td>\n",
       "      <td>...</td>\n",
       "      <td>...</td>\n",
       "      <td>...</td>\n",
       "      <td>...</td>\n",
       "      <td>...</td>\n",
       "      <td>...</td>\n",
       "      <td>...</td>\n",
       "      <td>...</td>\n",
       "      <td>...</td>\n",
       "    </tr>\n",
       "    <tr>\n",
       "      <th>2933</th>\n",
       "      <td>45.6</td>\n",
       "      <td>411.0</td>\n",
       "      <td>27</td>\n",
       "      <td>4.4</td>\n",
       "      <td>0.0</td>\n",
       "      <td>31</td>\n",
       "      <td>27.1</td>\n",
       "      <td>42</td>\n",
       "      <td>7.1</td>\n",
       "      <td>1.5</td>\n",
       "      <td>0.4</td>\n",
       "      <td>9.2</td>\n",
       "    </tr>\n",
       "    <tr>\n",
       "      <th>2934</th>\n",
       "      <td>45.6</td>\n",
       "      <td>411.0</td>\n",
       "      <td>26</td>\n",
       "      <td>4.1</td>\n",
       "      <td>0.0</td>\n",
       "      <td>741</td>\n",
       "      <td>26.7</td>\n",
       "      <td>41</td>\n",
       "      <td>6.5</td>\n",
       "      <td>1.5</td>\n",
       "      <td>0.4</td>\n",
       "      <td>9.5</td>\n",
       "    </tr>\n",
       "    <tr>\n",
       "      <th>2935</th>\n",
       "      <td>45.6</td>\n",
       "      <td>73.0</td>\n",
       "      <td>25</td>\n",
       "      <td>4.4</td>\n",
       "      <td>0.0</td>\n",
       "      <td>304</td>\n",
       "      <td>26.3</td>\n",
       "      <td>40</td>\n",
       "      <td>6.5</td>\n",
       "      <td>1.5</td>\n",
       "      <td>0.4</td>\n",
       "      <td>10.0</td>\n",
       "    </tr>\n",
       "    <tr>\n",
       "      <th>2936</th>\n",
       "      <td>45.6</td>\n",
       "      <td>411.0</td>\n",
       "      <td>25</td>\n",
       "      <td>1.7</td>\n",
       "      <td>0.0</td>\n",
       "      <td>529</td>\n",
       "      <td>25.9</td>\n",
       "      <td>39</td>\n",
       "      <td>6.2</td>\n",
       "      <td>1.5</td>\n",
       "      <td>0.4</td>\n",
       "      <td>9.8</td>\n",
       "    </tr>\n",
       "    <tr>\n",
       "      <th>2937</th>\n",
       "      <td>46.0</td>\n",
       "      <td>411.0</td>\n",
       "      <td>24</td>\n",
       "      <td>1.7</td>\n",
       "      <td>0.0</td>\n",
       "      <td>741</td>\n",
       "      <td>25.5</td>\n",
       "      <td>39</td>\n",
       "      <td>7.1</td>\n",
       "      <td>1.5</td>\n",
       "      <td>0.4</td>\n",
       "      <td>9.8</td>\n",
       "    </tr>\n",
       "  </tbody>\n",
       "</table>\n",
       "<p>2938 rows × 12 columns</p>\n",
       "</div>"
      ],
      "text/plain": [
       "      Life expectancy  Adult Mortality  infant deaths  Alcohol  \\\n",
       "0                65.0            263.0             52      0.0   \n",
       "1                59.9            271.0             52      0.0   \n",
       "2                59.9            268.0             52      0.0   \n",
       "3                59.5            272.0             52      0.0   \n",
       "4                59.2            275.0             52      0.0   \n",
       "...               ...              ...            ...      ...   \n",
       "2933             45.6            411.0             27      4.4   \n",
       "2934             45.6            411.0             26      4.1   \n",
       "2935             45.6             73.0             25      4.4   \n",
       "2936             45.6            411.0             25      1.7   \n",
       "2937             46.0            411.0             24      1.7   \n",
       "\n",
       "      percentage expenditure  Measles  BMI  under-five deaths  \\\n",
       "0                       71.3      741 19.1                 61   \n",
       "1                       73.5      492 18.6                 61   \n",
       "2                       73.2      430 18.1                 61   \n",
       "3                       78.2      741 17.6                 61   \n",
       "4                        7.1      741 17.2                 61   \n",
       "...                      ...      ...  ...                ...   \n",
       "2933                     0.0       31 27.1                 42   \n",
       "2934                     0.0      741 26.7                 41   \n",
       "2935                     0.0      304 26.3                 40   \n",
       "2936                     0.0      529 25.9                 39   \n",
       "2937                     0.0      741 25.5                 39   \n",
       "\n",
       "      Total expenditure  HIV/AIDS  Income composition of resources  Schooling  \n",
       "0                   8.2       0.1                              0.5       10.1  \n",
       "1                   8.2       0.1                              0.5       10.0  \n",
       "2                   8.1       0.1                              0.5        9.9  \n",
       "3                   8.5       0.1                              0.5        9.8  \n",
       "4                   7.9       0.1                              0.5        9.5  \n",
       "...                 ...       ...                              ...        ...  \n",
       "2933                7.1       1.5                              0.4        9.2  \n",
       "2934                6.5       1.5                              0.4        9.5  \n",
       "2935                6.5       1.5                              0.4       10.0  \n",
       "2936                6.2       1.5                              0.4        9.8  \n",
       "2937                7.1       1.5                              0.4        9.8  \n",
       "\n",
       "[2938 rows x 12 columns]"
      ]
     },
     "execution_count": 77,
     "metadata": {},
     "output_type": "execute_result"
    }
   ],
   "source": [
    "# Reading in the file\n",
    "data = pd.read_csv(\"cleaned_data_Winsorized.csv\")\n",
    "\n",
    "df_reduced = data.drop(['Country', 'Year', 'Status', 'GDP', 'Population', 'Diphtheria', 'Polio', 'thinness  1-19 years', 'thinness 5-9 years', 'Hepatitis B'] , axis=1)\n",
    "df_reduced"
   ]
  },
  {
   "cell_type": "markdown",
   "metadata": {},
   "source": [
    "## Encoding the label\n",
    "We encode Status because it is categorical."
   ]
  },
  {
   "cell_type": "code",
   "execution_count": 63,
   "metadata": {},
   "outputs": [],
   "source": [
    "# Encoding status \n",
    "status_encoded = []\n",
    "status = data.Status\n",
    "le = preprocessing.LabelEncoder()\n",
    "status_encoded=le.fit_transform(status)"
   ]
  },
  {
   "cell_type": "markdown",
   "metadata": {},
   "source": [
    "## Assigning Variables\n",
    "\n",
    "We assign the features to X and the label (Status) to y."
   ]
  },
  {
   "cell_type": "code",
   "execution_count": 64,
   "metadata": {},
   "outputs": [],
   "source": [
    "# Embedding features (X) and the label (y) which is the status of countries\n",
    "X = df_reduced\n",
    "y = status_encoded"
   ]
  },
  {
   "cell_type": "markdown",
   "metadata": {},
   "source": [
    "# Decompostion of data\n",
    "\n",
    "Standardised the train and test features. Fit them into the PCA with the number of columns as the number of components (12)."
   ]
  },
  {
   "cell_type": "code",
   "execution_count": 78,
   "metadata": {},
   "outputs": [
    {
     "data": {
      "text/plain": [
       "PCA(copy=True, iterated_power='auto', n_components=12, random_state=None,\n",
       "    svd_solver='auto', tol=0.0, whiten=False)"
      ]
     },
     "execution_count": 78,
     "metadata": {},
     "output_type": "execute_result"
    }
   ],
   "source": [
    "from sklearn.decomposition import PCA\n",
    "from sklearn.preprocessing import StandardScaler\n",
    "\n",
    "# We standardised our dataset features and transform them\n",
    "ss_train = StandardScaler()\n",
    "X_ft = ss_train.fit_transform(X)\n",
    "\n",
    "# We fit the model with the number of components equal to the number of features in the dataset\n",
    "PCA_results = PCA(n_components=X_ft.shape[1])\n",
    "PCA_results.fit(X_ft)"
   ]
  },
  {
   "cell_type": "markdown",
   "metadata": {},
   "source": [
    "# Calculating the Cummulative Sum of Each Principle Component\n",
    "\n",
    "We take the results of the model, extract the explained variance ratio (which means each individual column collated together explained as a ratio compared to the rest of the components). We express this as a percentage. The result obtained is the cummulative percentage variance each component has on the dataset. The components are ordered such that the first component has the highest variance on the dataset, the second component has the second highest variance, etc. The first explained variance ratio is the percentage variance the first component has on the dataset, the second explained variance ratio is the percentage variance of the *first + second* component on the dataset, the third is first + second + third etc. "
   ]
  },
  {
   "cell_type": "code",
   "execution_count": 66,
   "metadata": {},
   "outputs": [
    {
     "name": "stdout",
     "output_type": "stream",
     "text": [
      "[49.  60.2 69.9 76.8 82.  86.7 90.9 94.6 97.6 98.8 99.7 99.8]\n"
     ]
    }
   ],
   "source": [
    "pca_cum_sum = np.cumsum(np.round(PCA_results.explained_variance_ratio_,decimals=3)*100)\n",
    "print(pca_cum_sum)"
   ]
  },
  {
   "cell_type": "markdown",
   "metadata": {},
   "source": [
    "# Results Explained\n",
    "\n",
    "49 is the explained variance ratio expressed as a percentage of the first component on the dataset. 60.2 is the explained variance ratio expressed as a percentage of the first + second component on the dataset etc. We can see that just the first 7 components explain over 90% of the variance in the dataset, meaning that the following 5 components explain only less than 10% of the variance in the dataset. This means that we can safely ommit 5 components without impacting our results significantly (the number of components ommitted depend on the target accuracy). This allows us to reduce the dimensionality used in our other model. The benefits of reducing dimensionality are:\n",
    "- Faster training and testing of the the model due to less features used\n",
    "- Testing with a new dataset reduces the need for complete data as fewer features need to be gathered\n",
    "- Simplicity in making inferences based on models as less features have to be accounted for in analysis"
   ]
  },
  {
   "cell_type": "markdown",
   "metadata": {},
   "source": [
    "# Running PCA with 7 Components\n",
    "\n",
    "We have seen that the first 7 components account for 90.9% of the variance in the dataset. We will run the PCA again with that 7 components to see if we get a consistent result."
   ]
  },
  {
   "cell_type": "code",
   "execution_count": 67,
   "metadata": {},
   "outputs": [
    {
     "data": {
      "text/plain": [
       "PCA(copy=True, iterated_power='auto', n_components=7, random_state=None,\n",
       "    svd_solver='auto', tol=0.0, whiten=False)"
      ]
     },
     "execution_count": 67,
     "metadata": {},
     "output_type": "execute_result"
    }
   ],
   "source": [
    "# The first PCA used all the components in the dataset, we have reduced the number of components to 7\n",
    "# Based on the results of the previous PCA showing that the first 7 components account for 90.9% of variance\n",
    "PCA_results_reduced = PCA(n_components=7)\n",
    "# Fitting the training data into the PCA model\n",
    "PCA_results_reduced.fit(X_ft)"
   ]
  },
  {
   "cell_type": "markdown",
   "metadata": {},
   "source": [
    "# Transforming the Reduced PCA Results"
   ]
  },
  {
   "cell_type": "code",
   "execution_count": 68,
   "metadata": {},
   "outputs": [
    {
     "data": {
      "text/html": [
       "<div>\n",
       "<style scoped>\n",
       "    .dataframe tbody tr th:only-of-type {\n",
       "        vertical-align: middle;\n",
       "    }\n",
       "\n",
       "    .dataframe tbody tr th {\n",
       "        vertical-align: top;\n",
       "    }\n",
       "\n",
       "    .dataframe thead th {\n",
       "        text-align: right;\n",
       "    }\n",
       "</style>\n",
       "<table border=\"1\" class=\"dataframe\">\n",
       "  <thead>\n",
       "    <tr style=\"text-align: right;\">\n",
       "      <th></th>\n",
       "      <th>0</th>\n",
       "      <th>1</th>\n",
       "      <th>2</th>\n",
       "      <th>3</th>\n",
       "      <th>4</th>\n",
       "      <th>5</th>\n",
       "      <th>6</th>\n",
       "    </tr>\n",
       "  </thead>\n",
       "  <tbody>\n",
       "    <tr>\n",
       "      <th>0</th>\n",
       "      <td>2.9</td>\n",
       "      <td>2.2</td>\n",
       "      <td>0.2</td>\n",
       "      <td>-1.5</td>\n",
       "      <td>0.3</td>\n",
       "      <td>-0.2</td>\n",
       "      <td>-0.1</td>\n",
       "    </tr>\n",
       "    <tr>\n",
       "      <th>1</th>\n",
       "      <td>3.0</td>\n",
       "      <td>1.6</td>\n",
       "      <td>0.4</td>\n",
       "      <td>-1.5</td>\n",
       "      <td>0.3</td>\n",
       "      <td>-0.4</td>\n",
       "      <td>0.6</td>\n",
       "    </tr>\n",
       "    <tr>\n",
       "      <th>2</th>\n",
       "      <td>3.0</td>\n",
       "      <td>1.5</td>\n",
       "      <td>0.3</td>\n",
       "      <td>-1.5</td>\n",
       "      <td>0.3</td>\n",
       "      <td>-0.4</td>\n",
       "      <td>0.7</td>\n",
       "    </tr>\n",
       "    <tr>\n",
       "      <th>3</th>\n",
       "      <td>3.2</td>\n",
       "      <td>2.1</td>\n",
       "      <td>0.5</td>\n",
       "      <td>-1.5</td>\n",
       "      <td>0.4</td>\n",
       "      <td>-0.3</td>\n",
       "      <td>-0.1</td>\n",
       "    </tr>\n",
       "    <tr>\n",
       "      <th>4</th>\n",
       "      <td>3.3</td>\n",
       "      <td>2.0</td>\n",
       "      <td>0.2</td>\n",
       "      <td>-1.4</td>\n",
       "      <td>0.2</td>\n",
       "      <td>-0.2</td>\n",
       "      <td>-0.1</td>\n",
       "    </tr>\n",
       "    <tr>\n",
       "      <th>...</th>\n",
       "      <td>...</td>\n",
       "      <td>...</td>\n",
       "      <td>...</td>\n",
       "      <td>...</td>\n",
       "      <td>...</td>\n",
       "      <td>...</td>\n",
       "      <td>...</td>\n",
       "    </tr>\n",
       "    <tr>\n",
       "      <th>2933</th>\n",
       "      <td>3.6</td>\n",
       "      <td>-1.5</td>\n",
       "      <td>2.0</td>\n",
       "      <td>-0.1</td>\n",
       "      <td>-0.4</td>\n",
       "      <td>-0.9</td>\n",
       "      <td>0.5</td>\n",
       "    </tr>\n",
       "    <tr>\n",
       "      <th>2934</th>\n",
       "      <td>4.1</td>\n",
       "      <td>-0.2</td>\n",
       "      <td>1.7</td>\n",
       "      <td>0.3</td>\n",
       "      <td>-0.5</td>\n",
       "      <td>-0.5</td>\n",
       "      <td>-1.4</td>\n",
       "    </tr>\n",
       "    <tr>\n",
       "      <th>2935</th>\n",
       "      <td>2.9</td>\n",
       "      <td>-0.4</td>\n",
       "      <td>0.8</td>\n",
       "      <td>-0.6</td>\n",
       "      <td>0.3</td>\n",
       "      <td>0.4</td>\n",
       "      <td>0.0</td>\n",
       "    </tr>\n",
       "    <tr>\n",
       "      <th>2936</th>\n",
       "      <td>4.1</td>\n",
       "      <td>-0.7</td>\n",
       "      <td>1.3</td>\n",
       "      <td>0.2</td>\n",
       "      <td>-0.3</td>\n",
       "      <td>-0.8</td>\n",
       "      <td>-0.8</td>\n",
       "    </tr>\n",
       "    <tr>\n",
       "      <th>2937</th>\n",
       "      <td>4.1</td>\n",
       "      <td>-0.3</td>\n",
       "      <td>1.5</td>\n",
       "      <td>-0.0</td>\n",
       "      <td>-0.2</td>\n",
       "      <td>-0.7</td>\n",
       "      <td>-1.4</td>\n",
       "    </tr>\n",
       "  </tbody>\n",
       "</table>\n",
       "<p>2938 rows × 7 columns</p>\n",
       "</div>"
      ],
      "text/plain": [
       "       0    1   2    3    4    5    6\n",
       "0    2.9  2.2 0.2 -1.5  0.3 -0.2 -0.1\n",
       "1    3.0  1.6 0.4 -1.5  0.3 -0.4  0.6\n",
       "2    3.0  1.5 0.3 -1.5  0.3 -0.4  0.7\n",
       "3    3.2  2.1 0.5 -1.5  0.4 -0.3 -0.1\n",
       "4    3.3  2.0 0.2 -1.4  0.2 -0.2 -0.1\n",
       "...   ..  ...  ..  ...  ...  ...  ...\n",
       "2933 3.6 -1.5 2.0 -0.1 -0.4 -0.9  0.5\n",
       "2934 4.1 -0.2 1.7  0.3 -0.5 -0.5 -1.4\n",
       "2935 2.9 -0.4 0.8 -0.6  0.3  0.4  0.0\n",
       "2936 4.1 -0.7 1.3  0.2 -0.3 -0.8 -0.8\n",
       "2937 4.1 -0.3 1.5 -0.0 -0.2 -0.7 -1.4\n",
       "\n",
       "[2938 rows x 7 columns]"
      ]
     },
     "execution_count": 68,
     "metadata": {},
     "output_type": "execute_result"
    }
   ],
   "source": [
    "# Transforming the results and adding them to a dataframe for easy viewing\n",
    "PCA_transformed_reduced = PCA_results_reduced.transform(X_ft)\n",
    "PCA_transformed_reduced_df = pd.DataFrame(PCA_transformed_reduced)\n",
    "PCA_transformed_reduced_df"
   ]
  },
  {
   "cell_type": "markdown",
   "metadata": {},
   "source": [
    "# Calculating the Cummulative Sum of Each Principle Component\n",
    "\n",
    "We can see the same result as above with the sum of the first 5 explained variance ratio as a percentage accounting for 90.9% of the variance in the dataset."
   ]
  },
  {
   "cell_type": "code",
   "execution_count": 69,
   "metadata": {},
   "outputs": [
    {
     "name": "stdout",
     "output_type": "stream",
     "text": [
      "[49.  60.2 69.9 76.8 82.  86.7 90.9]\n"
     ]
    }
   ],
   "source": [
    "pca_reduced_cum_sum = np.cumsum(np.round(PCA_results_reduced.explained_variance_ratio_,decimals=3)*100)\n",
    "print(pca_reduced_cum_sum)"
   ]
  },
  {
   "cell_type": "markdown",
   "metadata": {},
   "source": [
    "# Logistic Regression Using PCA\n",
    "\n",
    "We then use the transformed PCA dataset as the features to train our model. The label is the encoded list of country Status."
   ]
  },
  {
   "cell_type": "code",
   "execution_count": 70,
   "metadata": {},
   "outputs": [],
   "source": [
    "# Splitting the features and label into a training and testing split\n",
    "# PCA_transformed_reduced_df = features from PCA\n",
    "# y = label (list of country statuses)\n",
    "X_train,X_test,y_train,y_test = train_test_split(PCA_transformed_reduced_df,y,test_size=0.25,random_state=0)\n",
    "\n",
    "# Creating the model\n",
    "logistic_regression= LogisticRegression()\n",
    "# Training the model\n",
    "logistic_regression.fit(X_train,y_train)\n",
    "# Predicting the labels of our test features\n",
    "y_pred=logistic_regression.predict(X_test)"
   ]
  },
  {
   "cell_type": "markdown",
   "metadata": {},
   "source": [
    "## Evaluating Logistic Regression Model\n",
    "\n",
    "After splitting the data and training the model, we have to evaluate its performance. In other words, we have to see whether the model was able to take the selected features and use them to make accurate predictions on whether a country is developed or developing in the test set.\n",
    "\n",
    "We build a confusion matrix showing us the results of the model testing. We compare the predicted labels with the test labels, meaning the predicted statuses and test statuses of countries. \n",
    "\n",
    "The confusion matrix shows us:\n",
    "- TP (True Positive) (predicted developed, actually developed)\n",
    "- TN (True Negative) (predicted developing, actually developing)\n",
    "- FP (False Positive) (predicted developed, actually developing)\n",
    "- FN (False Negative) (predicted developing, actually developed)"
   ]
  },
  {
   "cell_type": "code",
   "execution_count": 71,
   "metadata": {},
   "outputs": [
    {
     "data": {
      "image/png": "[encoded data removed]",
      "text/plain": [
       "<Figure size 432x288 with 2 Axes>"
      ]
     },
     "metadata": {
      "needs_background": "light"
     },
     "output_type": "display_data"
    }
   ],
   "source": [
    "# Creating confusion matrix showing True Positives, True Negatives, False Positives, False Negatives\n",
    "# To get the labels as Developing and Developed on the confusion matrix, we have to first decode the y_test and y_pred\n",
    "\n",
    "y_test_decoded = []\n",
    "y_pred_decoded = []\n",
    "\n",
    "# We append zeros as developed and ones as developing to new lists\n",
    "# Some keys are not in use, hence the exception handling\n",
    "for i in range(data.shape[0]):\n",
    "    try:\n",
    "        if (y_test[i] == 0):\n",
    "            y_test_decoded.append(\"Developed\")\n",
    "        elif (y_test[i] == 1):\n",
    "            y_test_decoded.append(\"Developing\")\n",
    "    except:\n",
    "        continue\n",
    "\n",
    "for i in range(data.shape[0]):\n",
    "    try:\n",
    "        if (y_pred[i] == 0):\n",
    "            y_pred_decoded.append(\"Developed\")\n",
    "        elif (y_pred[i] == 1):\n",
    "            y_pred_decoded.append(\"Developing\")\n",
    "    except:\n",
    "        continue\n",
    "\n",
    "# We then create a data dictionary based on our decoded data\n",
    "confusion_data = {'y_test': y_test_decoded,\n",
    "                  'y_pred': y_pred_decoded\n",
    "                  }\n",
    "\n",
    "# We make the dictionary into a dataframe which will be used by our confusion matrix\n",
    "df = pd.DataFrame(confusion_data, columns=['y_test','y_pred'])\n",
    "\n",
    "# We then create a confusion matrix between y_test (the actual labels) and y_pred (the predicted labels)\n",
    "# This shows us the true positives, true negatives, false positives and false negatives\n",
    "confusion_matrix = pd.crosstab(df['y_test'], df['y_pred'], rownames=['Actual'], colnames=['Predicted'])\n",
    "sns.heatmap(confusion_matrix, annot=True, fmt='g')\n",
    "\n",
    "plt.show()"
   ]
  },
  {
   "cell_type": "markdown",
   "metadata": {},
   "source": [
    "True Positives: 111\n",
    "\n",
    "True Negatives: 565\n",
    "\n",
    "False Positives: 32\n",
    "\n",
    "False Negatives: 27\n",
    "\n",
    "These results make sense as most of the countries are developing, and the highest result is predicting developing and the country is actually developing."
   ]
  },
  {
   "cell_type": "code",
   "execution_count": 72,
   "metadata": {},
   "outputs": [
    {
     "name": "stdout",
     "output_type": "stream",
     "text": [
      "Accuracy:  0.9197278911564626\n"
     ]
    }
   ],
   "source": [
    "# Determining accuracy of our model using accuracy score between the test labels and the predicted labels\n",
    "print('Accuracy: ',metrics.accuracy_score(y_test, y_pred))"
   ]
  },
  {
   "cell_type": "markdown",
   "metadata": {},
   "source": [
    "# Validating using K-fold Cross Validation\n",
    "\n",
    "Rather than trying out just one score and validation, this divides the entire dataset into a specific slots, and then iterates through each slot while keeping it as the test and rest of them as training data set. The final score is calcuated using the mean() method thus providing a refined and tested accuracy score. "
   ]
  },
  {
   "cell_type": "code",
   "execution_count": 73,
   "metadata": {},
   "outputs": [],
   "source": [
    "score = cross_val_score(logistic_regression, PCA_transformed_reduced_df, y, cv = 6)"
   ]
  },
  {
   "cell_type": "code",
   "execution_count": 74,
   "metadata": {},
   "outputs": [
    {
     "data": {
      "text/plain": [
       "array([0.91632653, 0.87142857, 0.90816327, 0.96938776, 0.88957055,\n",
       "       0.95092025])"
      ]
     },
     "execution_count": 74,
     "metadata": {},
     "output_type": "execute_result"
    }
   ],
   "source": [
    "score"
   ]
  },
  {
   "cell_type": "code",
   "execution_count": 75,
   "metadata": {},
   "outputs": [
    {
     "data": {
      "text/plain": [
       "0.9176328199991654"
      ]
     },
     "execution_count": 75,
     "metadata": {},
     "output_type": "execute_result"
    }
   ],
   "source": [
    "score.mean()"
   ]
  },
  {
   "cell_type": "markdown",
   "metadata": {},
   "source": [
    "We obtain a similarly high accuracy score for this method of validation which confirms the validity of our model."
   ]
  },
  {
   "cell_type": "markdown",
   "metadata": {},
   "source": [
    "# Life Expectancy Linear Regression"
   ]
  },
  {
   "cell_type": "code",
   "execution_count": 76,
   "metadata": {},
   "outputs": [],
   "source": [
    "np.set_printoptions(edgeitems=10)\n",
    "np.core.arrayprint._line_width = 180\n",
    "\n",
    "# Reading in the file\n",
    "df = pd.read_csv(\"cleaned_data_Winsorized.csv\")"
   ]
  },
  {
   "cell_type": "markdown",
   "metadata": {},
   "source": [
    "# Continuing from Exploratory Data Analytics\n",
    "\n",
    "While exploring data in last assignment, we researched on how each feature affects life expectancy. This part explores how well we can predict the life expectancy (target variable) which is a continous variable, using single and multiple attributes of various data types."
   ]
  },
  {
   "cell_type": "markdown",
   "metadata": {},
   "source": [
    "We start with a simple Linear Regression model, which aims to predict the life expectancy for the next 15 years (2020-2035) using the available data for Australia."
   ]
  },
  {
   "cell_type": "code",
   "execution_count": 36,
   "metadata": {},
   "outputs": [
    {
     "data": {
      "text/plain": [
       "<matplotlib.collections.PathCollection at 0x10386f790>"
      ]
     },
     "execution_count": 36,
     "metadata": {},
     "output_type": "execute_result"
    },
    {
     "data": {
      "image/png": "[encoded data removed]",
      "text/plain": [
       "<Figure size 432x288 with 1 Axes>"
      ]
     },
     "metadata": {
      "needs_background": "light"
     },
     "output_type": "display_data"
    }
   ],
   "source": [
    "# Plotting to understand the correlation between years and life expectancy of Australia\n",
    "\n",
    "# Filtering the data\n",
    "df_1 = df[df[\"Country\"] == \"Australia\"]\n",
    "# Putting axes labels\n",
    "plt.ylabel(\"Life Expectancy\")\n",
    "plt.xlabel(\"Year\")\n",
    "\n",
    "# Plotting the graph to check the coorelation between variables\n",
    "plt.scatter(df_1[\"Year\"],df_1[\"Life expectancy\"],  color = 'red', marker = '+')"
   ]
  },
  {
   "cell_type": "code",
   "execution_count": 37,
   "metadata": {},
   "outputs": [
    {
     "data": {
      "text/plain": [
       "LinearRegression(copy_X=True, fit_intercept=True, n_jobs=None, normalize=False)"
      ]
     },
     "execution_count": 37,
     "metadata": {},
     "output_type": "execute_result"
    }
   ],
   "source": [
    "# Training the model\n",
    "reg = LinearRegression()\n",
    "reg.fit(df_1[[\"Year\"]], df_1[\"Life expectancy\"])"
   ]
  },
  {
   "cell_type": "code",
   "execution_count": 38,
   "metadata": {},
   "outputs": [],
   "source": [
    "# Storing prediction for each year into pred_year array\n",
    "pred_year = []\n",
    "for i in range(0, 15):\n",
    "    pred_year.append((reg.predict([[2020 + i]])))"
   ]
  },
  {
   "cell_type": "code",
   "execution_count": 39,
   "metadata": {},
   "outputs": [
    {
     "data": {
      "text/plain": [
       "array([0.12676471])"
      ]
     },
     "execution_count": 39,
     "metadata": {},
     "output_type": "execute_result"
    }
   ],
   "source": [
    "# y = mx + c\n",
    "# m --\n",
    "reg.coef_"
   ]
  },
  {
   "cell_type": "code",
   "execution_count": 40,
   "metadata": {},
   "outputs": [
    {
     "data": {
      "text/plain": [
       "-172.66764705882315"
      ]
     },
     "execution_count": 40,
     "metadata": {},
     "output_type": "execute_result"
    }
   ],
   "source": [
    "# c --\n",
    "reg.intercept_"
   ]
  },
  {
   "cell_type": "code",
   "execution_count": 41,
   "metadata": {},
   "outputs": [
    {
     "data": {
      "text/plain": [
       "[<matplotlib.lines.Line2D at 0x1a1944a190>]"
      ]
     },
     "execution_count": 41,
     "metadata": {},
     "output_type": "execute_result"
    },
    {
     "data": {
      "image/png": "[encoded data removed]",
      "text/plain": [
       "<Figure size 576x576 with 1 Axes>"
      ]
     },
     "metadata": {
      "needs_background": "light"
     },
     "output_type": "display_data"
    }
   ],
   "source": [
    "# Visualing the straight line that forms with respect to data\n",
    "plt.figure(figsize=(8,8))\n",
    "plt.ylabel(\"Life Expectancy\")\n",
    "plt.xlabel(\"Year\")\n",
    "\n",
    "plt.scatter(df_1[\"Year\"],df_1[\"Life expectancy\"],  color = 'red', marker = '+')\n",
    "plt.plot(df_1.Year, reg.predict(df_1[[\"Year\"]]), color = 'blue')"
   ]
  },
  {
   "cell_type": "markdown",
   "metadata": {},
   "source": [
    "Australia's predicted life expectancy for the next 15 years based on Year analysis."
   ]
  },
  {
   "cell_type": "code",
   "execution_count": 42,
   "metadata": {},
   "outputs": [
    {
     "data": {
      "text/plain": [
       "[<matplotlib.lines.Line2D at 0x1a19c43590>]"
      ]
     },
     "execution_count": 42,
     "metadata": {},
     "output_type": "execute_result"
    },
    {
     "data": {
      "image/png": "[encoded data removed]",
      "text/plain": [
       "<Figure size 576x576 with 1 Axes>"
      ]
     },
     "metadata": {
      "needs_background": "light"
     },
     "output_type": "display_data"
    }
   ],
   "source": [
    "# Predicted Life Expectancy based on straight line in the previous section\n",
    "plt.figure(figsize=(8,8))\n",
    "plt.ylabel(\"Life Expectancy\")\n",
    "plt.xlabel(\"Year\")\n",
    "\n",
    "plt.scatter([2020, 2021, 2022, 2023, 2024, 2025, 2026, 2027, 2028, 2029, 2030, 2031, 2032, 2033, 2034],pred_year,  color = 'red')\n",
    "plt.plot([2020, 2021, 2022, 2023, 2024, 2025, 2026, 2027, 2028, 2029, 2030, 2031, 2032, 2033, 2034],pred_year,  color = 'blue')"
   ]
  },
  {
   "cell_type": "markdown",
   "metadata": {},
   "source": [
    "# Multivariate Linear Regression using Continuous values\n",
    "Simple linear regression model based on continuous attributes."
   ]
  },
  {
   "cell_type": "code",
   "execution_count": 43,
   "metadata": {},
   "outputs": [
    {
     "data": {
      "text/plain": [
       "LinearRegression(copy_X=True, fit_intercept=True, n_jobs=None, normalize=False)"
      ]
     },
     "execution_count": 43,
     "metadata": {},
     "output_type": "execute_result"
    }
   ],
   "source": [
    "# life_expectancy = (m1 * schooling) + (m2 * perc_expe) + (m3 * under5deaths) + (m4 * income_comp) + b\n",
    "model_1 = LinearRegression()\n",
    "# Training the model\n",
    "model_1.fit(df[[\"Schooling\", \"under-five deaths\", \"percentage expenditure\",\"Income composition of resources\"]], df[\"Life expectancy\"])"
   ]
  },
  {
   "cell_type": "code",
   "execution_count": 44,
   "metadata": {},
   "outputs": [
    {
     "data": {
      "text/plain": [
       "array([ 5.01348594e-01, -1.10838831e-01,  2.00203132e-03,  2.52743946e+01])"
      ]
     },
     "execution_count": 44,
     "metadata": {},
     "output_type": "execute_result"
    }
   ],
   "source": [
    "# Value of m1, m2, m3, m4\n",
    "model_1.coef_"
   ]
  },
  {
   "cell_type": "code",
   "execution_count": 45,
   "metadata": {},
   "outputs": [
    {
     "data": {
      "text/plain": [
       "48.241552358900336"
      ]
     },
     "execution_count": 45,
     "metadata": {},
     "output_type": "execute_result"
    }
   ],
   "source": [
    "# Value of b\n",
    "model_1.intercept_"
   ]
  },
  {
   "cell_type": "code",
   "execution_count": 46,
   "metadata": {},
   "outputs": [
    {
     "data": {
      "text/plain": [
       "array([53.00534797])"
      ]
     },
     "execution_count": 46,
     "metadata": {},
     "output_type": "execute_result"
    }
   ],
   "source": [
    "# Predicting the Life expectancy based on this equation\n",
    "'''\n",
    "- Schooling = 10.1\n",
    "- under-five deaths = 61\n",
    "- percentage expenditure = 71.3\n",
    "- Income composition of resources = 0.25\n",
    "\n",
    "'''\n",
    "model_1.predict([[10.1,61,71.3,0.25]])"
   ]
  },
  {
   "cell_type": "markdown",
   "metadata": {},
   "source": [
    "The Life expectancy predicted by the Linear regression model is 53.005 years based on 4 continuous features."
   ]
  },
  {
   "cell_type": "markdown",
   "metadata": {},
   "source": [
    "# Nominal and continuous attributes combined\n",
    "\n",
    "Need to encode column 'Status' which contains information about developing and developed nation so that it can be taken into consideration while deciding upon Life expectancy."
   ]
  },
  {
   "cell_type": "code",
   "execution_count": 47,
   "metadata": {},
   "outputs": [],
   "source": [
    "# Need to encode year to use it into prediction\n",
    "le = LabelEncoder()\n",
    "dfle = df[[\"Life expectancy\", \"Status\", \"Schooling\", \"under-five deaths\", \"percentage expenditure\",\"Income composition of resources\"]]\n",
    "dfle.Status = le.fit_transform(dfle.Status)"
   ]
  },
  {
   "cell_type": "code",
   "execution_count": 48,
   "metadata": {},
   "outputs": [
    {
     "data": {
      "text/plain": [
       "array([[ 1. , 10.1, 61. , 71.3,  0.5],\n",
       "       [ 1. , 10. , 61. , 73.5,  0.5],\n",
       "       [ 1. ,  9.9, 61. , 73.2,  0.5],\n",
       "       [ 1. ,  9.8, 61. , 78.2,  0.5],\n",
       "       [ 1. ,  9.5, 61. ,  7.1,  0.5],\n",
       "       [ 1. ,  9.2, 61. , 79.7,  0.4],\n",
       "       [ 1. ,  8.9, 61. , 56.8,  0.4],\n",
       "       [ 1. ,  8.7, 61. , 25.9,  0.4],\n",
       "       [ 1. ,  8.4, 61. , 10.9,  0.4],\n",
       "       [ 1. ,  8.1, 61. , 17.2,  0.4],\n",
       "       ...,\n",
       "       [ 1. ,  9.9, 45. ,  1. ,  0.4],\n",
       "       [ 1. ,  9.7, 46. , 20.8,  0.4],\n",
       "       [ 1. ,  9.6, 46. , 29.8,  0.4],\n",
       "       [ 1. ,  9.5, 45. , 34.3,  0.4],\n",
       "       [ 1. ,  9.3, 43. ,  8.7,  0.4],\n",
       "       [ 1. ,  9.2, 42. ,  0. ,  0.4],\n",
       "       [ 1. ,  9.5, 41. ,  0. ,  0.4],\n",
       "       [ 1. , 10. , 40. ,  0. ,  0.4],\n",
       "       [ 1. ,  9.8, 39. ,  0. ,  0.4],\n",
       "       [ 1. ,  9.8, 39. ,  0. ,  0.4]])"
      ]
     },
     "execution_count": 48,
     "metadata": {},
     "output_type": "execute_result"
    }
   ],
   "source": [
    "X = dfle[[\"Status\", \"Schooling\", \"under-five deaths\", \"percentage expenditure\",\"Income composition of resources\"]].values\n",
    "X"
   ]
  },
  {
   "cell_type": "code",
   "execution_count": 49,
   "metadata": {},
   "outputs": [],
   "source": [
    "y = dfle[\"Life expectancy\"].values"
   ]
  },
  {
   "cell_type": "code",
   "execution_count": 50,
   "metadata": {},
   "outputs": [],
   "source": [
    "ct = ColumnTransformer([(\"Status\", OneHotEncoder(), [0])], remainder = 'passthrough')\n",
    "X = ct.fit_transform(X)"
   ]
  },
  {
   "cell_type": "code",
   "execution_count": 51,
   "metadata": {},
   "outputs": [
    {
     "data": {
      "text/plain": [
       "array([[ 1. , 10.1, 61. , 71.3,  0.5],\n",
       "       [ 1. , 10. , 61. , 73.5,  0.5],\n",
       "       [ 1. ,  9.9, 61. , 73.2,  0.5],\n",
       "       [ 1. ,  9.8, 61. , 78.2,  0.5],\n",
       "       [ 1. ,  9.5, 61. ,  7.1,  0.5],\n",
       "       [ 1. ,  9.2, 61. , 79.7,  0.4],\n",
       "       [ 1. ,  8.9, 61. , 56.8,  0.4],\n",
       "       [ 1. ,  8.7, 61. , 25.9,  0.4],\n",
       "       [ 1. ,  8.4, 61. , 10.9,  0.4],\n",
       "       [ 1. ,  8.1, 61. , 17.2,  0.4],\n",
       "       ...,\n",
       "       [ 1. ,  9.9, 45. ,  1. ,  0.4],\n",
       "       [ 1. ,  9.7, 46. , 20.8,  0.4],\n",
       "       [ 1. ,  9.6, 46. , 29.8,  0.4],\n",
       "       [ 1. ,  9.5, 45. , 34.3,  0.4],\n",
       "       [ 1. ,  9.3, 43. ,  8.7,  0.4],\n",
       "       [ 1. ,  9.2, 42. ,  0. ,  0.4],\n",
       "       [ 1. ,  9.5, 41. ,  0. ,  0.4],\n",
       "       [ 1. , 10. , 40. ,  0. ,  0.4],\n",
       "       [ 1. ,  9.8, 39. ,  0. ,  0.4],\n",
       "       [ 1. ,  9.8, 39. ,  0. ,  0.4]])"
      ]
     },
     "execution_count": 51,
     "metadata": {},
     "output_type": "execute_result"
    }
   ],
   "source": [
    "# Dropping first columns\n",
    "# Why? Because to handle the case where all the inputs are 0 to train the model, so the model will assume that it is either developed or developing\n",
    "X = X[:,1:]\n",
    "X"
   ]
  },
  {
   "cell_type": "code",
   "execution_count": 52,
   "metadata": {},
   "outputs": [
    {
     "data": {
      "text/plain": [
       "LinearRegression(copy_X=True, fit_intercept=True, n_jobs=None, normalize=False)"
      ]
     },
     "execution_count": 52,
     "metadata": {},
     "output_type": "execute_result"
    }
   ],
   "source": [
    "model = LinearRegression()\n",
    "model.fit(X, y)"
   ]
  },
  {
   "cell_type": "code",
   "execution_count": 53,
   "metadata": {},
   "outputs": [
    {
     "data": {
      "text/plain": [
       "array([55.37178899])"
      ]
     },
     "execution_count": 53,
     "metadata": {},
     "output_type": "execute_result"
    }
   ],
   "source": [
    "# Developed = 0\n",
    "# Developing = 1\n",
    "'''\n",
    "- Developed = 0\n",
    "- Schooling = 10.1\n",
    "- under-five deaths = 61\n",
    "- percentage expenditure = 71.3\n",
    "- Income composition of resources = 0.25\n",
    "'''\n",
    "model.predict([[0, 10.1,61,11.3, 0.25]])"
   ]
  },
  {
   "cell_type": "markdown",
   "metadata": {},
   "source": [
    "# Validating the data using test_size"
   ]
  },
  {
   "cell_type": "code",
   "execution_count": 54,
   "metadata": {},
   "outputs": [],
   "source": [
    "# Dividing the data between test and training data\n",
    "# Testing data = 30%\n",
    "# Training data = 70 % (Randomly picked)\n",
    "X_train, X_test, y_train, y_test = train_test_split(X, y, test_size = 0.7, random_state = 0)"
   ]
  },
  {
   "cell_type": "code",
   "execution_count": 55,
   "metadata": {},
   "outputs": [
    {
     "data": {
      "text/plain": [
       "LinearRegression(copy_X=True, fit_intercept=True, n_jobs=None, normalize=False)"
      ]
     },
     "execution_count": 55,
     "metadata": {},
     "output_type": "execute_result"
    }
   ],
   "source": [
    "model_2 = LinearRegression()\n",
    "model_2.fit(X_train, y_train)"
   ]
  },
  {
   "cell_type": "code",
   "execution_count": 56,
   "metadata": {},
   "outputs": [
    {
     "data": {
      "text/plain": [
       "array([79.19187466, 61.52610511, 72.6548837 , 58.59708247, 58.72062526,\n",
       "       62.35657939, 71.57740949, 78.62094917, 72.22703992, 55.62130999,\n",
       "       ..., 71.60461289, 68.72165694, 71.8556747 , 72.4377131 ,\n",
       "       66.19050405, 58.89343275, 58.06363596, 65.22578292, 81.37248147,\n",
       "       71.95226946])"
      ]
     },
     "execution_count": 56,
     "metadata": {},
     "output_type": "execute_result"
    }
   ],
   "source": [
    "model_2.predict(X_test)"
   ]
  },
  {
   "cell_type": "code",
   "execution_count": 57,
   "metadata": {},
   "outputs": [
    {
     "data": {
      "text/plain": [
       "0.6909386969098185"
      ]
     },
     "execution_count": 57,
     "metadata": {},
     "output_type": "execute_result"
    }
   ],
   "source": [
    "model.score(X_test, y_test)"
   ]
  },
  {
   "cell_type": "markdown",
   "metadata": {},
   "source": [
    "# Validating using K-fold Cross Validation\n",
    "\n",
    "Rather than trying out just one score and validation, this divides the entire dataset into a specific slots, and then iterates through each slot while keeping it as the test and rest of them as training data set. The final score is calcuated using the mean() method thus providing a refined and tested accuracy score."
   ]
  },
  {
   "cell_type": "code",
   "execution_count": 58,
   "metadata": {},
   "outputs": [],
   "source": [
    "# Cross validation using 6 folds\n",
    "score = cross_val_score(model_2, X, y, cv = 6)"
   ]
  },
  {
   "cell_type": "code",
   "execution_count": 59,
   "metadata": {},
   "outputs": [
    {
     "data": {
      "text/plain": [
       "array([0.67632354, 0.59754433, 0.73350535, 0.63885895, 0.79055961,\n",
       "       0.5732216 ])"
      ]
     },
     "execution_count": 59,
     "metadata": {},
     "output_type": "execute_result"
    }
   ],
   "source": [
    "score"
   ]
  },
  {
   "cell_type": "code",
   "execution_count": 60,
   "metadata": {},
   "outputs": [
    {
     "data": {
      "text/plain": [
       "0.6683355631007363"
      ]
     },
     "execution_count": 60,
     "metadata": {},
     "output_type": "execute_result"
    }
   ],
   "source": [
    "score.mean()"
   ]
  }
 ],
 "metadata": {
  "kernelspec": {
   "display_name": "Python 3",
   "language": "python",
   "name": "python3"
  },
  "language_info": {
   "codemirror_mode": {
    "name": "ipython",
    "version": 3
   },
   "file_extension": ".py",
   "mimetype": "text/x-python",
   "name": "python",
   "nbconvert_exporter": "python",
   "pygments_lexer": "ipython3",
   "version": "3.7.6"
  }
 },
 "nbformat": 4,
 "nbformat_minor": 4
}
